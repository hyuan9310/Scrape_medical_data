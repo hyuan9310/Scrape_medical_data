{
 "cells": [
  {
   "cell_type": "code",
   "execution_count": 1,
   "metadata": {},
   "outputs": [],
   "source": [
    "from urllib.request import urlopen\n",
    "from bs4 import BeautifulSoup as BS\n",
    "import pandas as pd\n",
    "import csv\n",
    "import datetime\n",
    "import os\n",
    "import sys"
   ]
  },
  {
   "cell_type": "code",
   "execution_count": 2,
   "metadata": {},
   "outputs": [],
   "source": [
    "\"\"\"\n",
    "\n",
    "There are two parameters to set;\n",
    "category: (str), options: \"all\", \"hospital compare\", \"Nursing home compare\", ... \n",
    "(please find category on the website: https://data.medicare.gov/)\n",
    "search_key_word: the keyword you want to refine, if none, input \"\".\n",
    "\"\"\"\n",
    "# category = \"hospital compare\"  ###set example; if no specific category, set it \"all\"\n",
    "# search_key_word = \"MRI\" ###if none, input ''\n",
    " \n",
    "category = sys.argv[1]  ###set example; if no specific category, set it \"all\"\n",
    "search_key_word = sys.argv[2] ###if none, input ''\n",
    "\n",
    "#get time for this search\n",
    "currentDT = datetime.datetime.now()\n",
    "YMD = \"{}{}{}\".format(currentDT.year,currentDT.month,currentDT.day)\n",
    "HMS = \"{}{}{}\".format(currentDT.hour, currentDT.minute, currentDT.second)"
   ]
  },
  {
   "cell_type": "markdown",
   "metadata": {},
   "source": [
    "Please do not change the code below!"
   ]
  },
  {
   "cell_type": "code",
   "execution_count": 3,
   "metadata": {},
   "outputs": [],
   "source": [
    "\"\"\"\n",
    "\n",
    "the folder will be created under your current way \n",
    "with the name of category, keyword and time(year,month,day)\n",
    "all data will be saved in that folder\n",
    "\"\"\"\n",
    "category_folder= category.replace(\" \",\"+\")\n",
    "search_key_word_folder = search_key_word.replace(\" \",\"+\")\n",
    "save_folder = \"./{}_{}_{}/\".format(category, search_key_word, YMD)\n",
    "os.mkdir(save_folder)"
   ]
  },
  {
   "cell_type": "code",
   "execution_count": 4,
   "metadata": {
    "scrolled": false
   },
   "outputs": [
    {
     "name": "stdout",
     "output_type": "stream",
     "text": [
      "base_url:  https://data.medicare.gov/browse/embed?category=hospital+compare&q=MRI&sortBy=relevance\n"
     ]
    }
   ],
   "source": [
    "if category == \"all\":\n",
    "    base_url = \"https://data.medicare.gov/browse/embed?q=&sortBy=relevance\"\n",
    "else:\n",
    "    category_embed = category.replace(\" \",\"+\")\n",
    "    search_key_word_embed = search_key_word.replace(\" \",\"+\")\n",
    "    base_url = \"https://data.medicare.gov/browse/embed?category={}&q={}&sortBy=relevance\".format(category_embed,search_key_word_embed)\n",
    "print(\"base_url: \",base_url)\n",
    "page = urlopen(base_url)\n",
    "soup = BS(page)\n"
   ]
  },
  {
   "cell_type": "code",
   "execution_count": 5,
   "metadata": {},
   "outputs": [],
   "source": [
    "all_links = soup.find_all('a',class_=\"browse2-result-name-link\")\n"
   ]
  },
  {
   "cell_type": "code",
   "execution_count": 6,
   "metadata": {},
   "outputs": [
    {
     "name": "stdout",
     "output_type": "stream",
     "text": [
      "title: Outpatient Imaging Efficiency - Hospital\n",
      "link: https://data.medicare.gov/resource/wkfw-kthe.csv\n",
      "title: Outpatient Imaging Efficiency - State\n",
      "link: https://data.medicare.gov/resource/if5v-4x48.csv\n",
      "title: Outpatient Imaging Efficiency - National\n",
      "link: https://data.medicare.gov/resource/di9i-zzrc.csv\n"
     ]
    }
   ],
   "source": [
    "titles = []\n",
    "links = []\n",
    "for i in all_links:\n",
    "    only_title = i.text.strip()\n",
    "    titles.append(only_title)\n",
    "    print(\"title:\",only_title)\n",
    "    link = i.get('href')\n",
    "    csv_link = \"https://data.medicare.gov/resource/\" + link.split('/')[-1] + \".csv\"\n",
    "    print(\"link:\",csv_link)\n",
    "    links.append(csv_link)\n",
    "    data = pd.read_csv(csv_link)\n",
    "    data.to_csv(save_folder + \"{}.csv\".format(only_title))\n",
    "    "
   ]
  },
  {
   "cell_type": "code",
   "execution_count": 7,
   "metadata": {},
   "outputs": [],
   "source": [
    "info_df = pd.DataFrame({\"title\":titles,\"link\":links})\n",
    "info_df.to_csv(save_folder + \"info.csv\")"
   ]
  },
  {
   "cell_type": "markdown",
   "metadata": {},
   "source": [
    "Complete"
   ]
  }
 ],
 "metadata": {
  "kernelspec": {
   "display_name": "Python 3",
   "language": "python",
   "name": "python3"
  },
  "language_info": {
   "codemirror_mode": {
    "name": "ipython",
    "version": 3
   },
   "file_extension": ".py",
   "mimetype": "text/x-python",
   "name": "python",
   "nbconvert_exporter": "python",
   "pygments_lexer": "ipython3",
   "version": "3.7.3"
  }
 },
 "nbformat": 4,
 "nbformat_minor": 2
}
